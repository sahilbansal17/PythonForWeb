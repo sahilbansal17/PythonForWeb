{
 "cells": [
  {
   "cell_type": "markdown",
   "metadata": {},
   "source": [
    "# <p style=\"text-align:center;font-size:70px;background-color:#0ad61b;color:white;font-style:italic;\">Python for web</p>\n",
    "\n",
    "![](http://www.blog.skytopper.com/wp-content/uploads/2015/06/Global-computer-network.jpg)\n",
    "\n",
    "This bootcamp is all about interacting with **web** using Python programming language!\n",
    "\n",
    "In this bootcamp, we will learn:\n",
    "\n",
    "- to work with web APIs\n",
    "- to download content from web\n",
    "- web scraping\n",
    "- sending Emails\n",
    "- web automation\n",
    "\n",
    "using simple python scripts!"
   ]
  },
  {
   "cell_type": "markdown",
   "metadata": {},
   "source": [
    "# 1. Working with web APIs\n",
    "\n",
    "- **What is API?**<br>\n",
    "    API is a set of routines, protocols, and tools for building software applications. An API specifies how software components should interact. \n",
    "![](https://www.retriever.nl/wp-content/uploads/2016/11/api-321x250.png)\n",
    "-------------\n",
    "\n",
    "- **What is web API?**<br>\n",
    "    Web API is a framework for building HTTP services that can be consumed by a broad range of clients including browsers, mobiles, iphone and tablets.\n",
    "![](http://dselva.co.in/blog/wp-content/uploads/2017/09/Web-APIs.png)\n",
    "-----------------\n",
    "- **Some examples of public web APIs:**\n",
    "    - [Facebook Graph API](https://developers.facebook.com/docs/graph-api)\n",
    "    - [Twitter API](https://dev.twitter.com/rest/public)\n",
    "    - [Google API explorer](https://developers.google.com/apis-explorer/#p/)\n",
    "--------------\n",
    "\n",
    "- **What is REST?**<br>\n",
    "    REST is an architectural style followed by web services, in which, they allow requesting systems to access and manipulate their Web resources using a uniform and predefined set of **stateless operations**.\n",
    "    \n",
    "    >In computing, a stateless protocol is a communications protocol in which no information is retained by either sender or receiver. The sender transmits a packet to the receiver and does not expect an acknowledgment of receipt. There is nothing saved that has to be remembered by the next transaction. The server must be able to completely understand the client request without using any server context or server session state. \n",
    "    \n",
    "   Advantages of REST:\n",
    "   - As the transactions are stateless, we can direct them to any instance of the web service. (As no sessions are involved). Hence, the web service can scale to accommodate load changes.\n",
    "   - Binding to a service through an API is a matter of controlling how the URL is decoded.\n",
    "\n",
    "-----------------\n",
    "- **Types of HTTP requests**\n",
    "    - GET\n",
    "    - POST\n",
    "    - DELETE\n",
    "    - PUT\n",
    "    - PATCH, etc.\n",
    "    \n",
    "![](http://lotsofthing.com/wp-content/uploads/2017/11/rest-api-1.jpg)"
   ]
  },
  {
   "cell_type": "markdown",
   "metadata": {},
   "source": [
    "### HTTP  for humans: [requests](http://docs.python-requests.org/en/master/)\n",
    "\n",
    "<img src=\"http://docs.python-requests.org/en/master/_static/requests-sidebar.png\"  height=200 width=200>\n",
    "\n",
    "\n",
    "- Requests is one of the most downloaded Python packages of all time, pulling in over 7,000,000 downloads every month.All the cool kids are doing it\n",
    "\n",
    "- Recreational use of other HTTP libraries may result in dangerous side-effects, including: security vulnerabilities, verbose code, reinventing the wheel, constantly reading documentation, depression, headaches, or even death. Requests is the only Non-GMO HTTP library for Python, safe for human consumption.\n",
    "\n",
    "- Python HTTP: When in doubt, or when not in doubt, use Requests. Beautiful, simple, Pythonic.\n",
    "\n",
    "***Everybody loves it!***\n",
    "\n",
    "#### Installation\n",
    "\n",
    "```\n",
    "pip install requests\n",
    "```"
   ]
  },
  {
   "cell_type": "markdown",
   "metadata": {},
   "source": [
    "## GET request\n",
    "\n",
    "### Example 1\n",
    "\n",
    "http://graph.facebook.com/100002613118356/picture?type=large\n",
    "\n",
    "![](http://graph.facebook.com/100002613118356/picture?type=large)\n",
    "\n",
    "\n",
    "http://graph.facebook.com/4/picture?type=large\n",
    "\n",
    "![](http://graph.facebook.com/4/picture?type=large)"
   ]
  },
  {
   "cell_type": "markdown",
   "metadata": {},
   "source": [
    "![](https://drlongnecker.com/-/file/90/api-calls-are-easy)"
   ]
  },
  {
   "cell_type": "markdown",
   "metadata": {},
   "source": [
    "![](http://i.imgur.com/gRvt4lV.png)"
   ]
  },
  {
   "cell_type": "code",
   "execution_count": 1,
   "metadata": {
    "collapsed": true
   },
   "outputs": [],
   "source": [
    "import requests"
   ]
  },
  {
   "cell_type": "code",
   "execution_count": 2,
   "metadata": {
    "collapsed": true
   },
   "outputs": [],
   "source": [
    "url = \"http://graph.facebook.com/4/picture?type=large\""
   ]
  },
  {
   "cell_type": "code",
   "execution_count": 3,
   "metadata": {},
   "outputs": [
    {
     "data": {
      "text/plain": [
       "'http://graph.facebook.com/4/picture?type=large'"
      ]
     },
     "execution_count": 3,
     "metadata": {},
     "output_type": "execute_result"
    }
   ],
   "source": [
    "url"
   ]
  },
  {
   "cell_type": "code",
   "execution_count": 4,
   "metadata": {
    "collapsed": true
   },
   "outputs": [],
   "source": [
    "r = requests.get(url)"
   ]
  },
  {
   "cell_type": "code",
   "execution_count": 8,
   "metadata": {},
   "outputs": [
    {
     "data": {
      "text/plain": [
       "200"
      ]
     },
     "execution_count": 8,
     "metadata": {},
     "output_type": "execute_result"
    }
   ],
   "source": [
    "r.status_code"
   ]
  },
  {
   "cell_type": "code",
   "execution_count": 9,
   "metadata": {
    "collapsed": true
   },
   "outputs": [],
   "source": [
    "with open(\"mark.jpg\",\"wb\") as f:\n",
    "    f.write(r.content)"
   ]
  },
  {
   "cell_type": "markdown",
   "metadata": {},
   "source": [
    "![](mark.jpg)"
   ]
  },
  {
   "cell_type": "markdown",
   "metadata": {},
   "source": [
    "### Example 2\n",
    "\n",
    "[Google maps geocoding API](https://developers.google.com/maps/documentation/geocoding/intro)"
   ]
  },
  {
   "cell_type": "code",
   "execution_count": 17,
   "metadata": {
    "collapsed": true
   },
   "outputs": [],
   "source": [
    "url = \"https://maps.googleapis.com/maps/api/geocode/json\""
   ]
  },
  {
   "cell_type": "code",
   "execution_count": 26,
   "metadata": {
    "collapsed": true
   },
   "outputs": [],
   "source": [
    "my_address = {\n",
    "    \"address\": \"jui khurd\"\n",
    "}"
   ]
  },
  {
   "cell_type": "code",
   "execution_count": 27,
   "metadata": {
    "collapsed": true
   },
   "outputs": [],
   "source": [
    "r = requests.get(url, params = my_address) # params is an optional arguemnt in get function (url is positional arg)"
   ]
  },
  {
   "cell_type": "code",
   "execution_count": 33,
   "metadata": {},
   "outputs": [],
   "source": [
    "data = r.json() # it is a dictionary"
   ]
  },
  {
   "cell_type": "code",
   "execution_count": 41,
   "metadata": {},
   "outputs": [
    {
     "name": "stdout",
     "output_type": "stream",
     "text": [
      "{'results': [{'address_components': [{'long_name': 'Jui Khurd',\n",
      "                                      'short_name': 'Jui Khurd',\n",
      "                                      'types': ['locality', 'political']},\n",
      "                                     {'long_name': 'Bhiwani',\n",
      "                                      'short_name': 'Bhiwani',\n",
      "                                      'types': ['administrative_area_level_2',\n",
      "                                                'political']},\n",
      "                                     {'long_name': 'Haryana',\n",
      "                                      'short_name': 'HR',\n",
      "                                      'types': ['administrative_area_level_1',\n",
      "                                                'political']},\n",
      "                                     {'long_name': 'India',\n",
      "                                      'short_name': 'IN',\n",
      "                                      'types': ['country', 'political']},\n",
      "                                     {'long_name': '127030',\n",
      "                                      'short_name': '127030',\n",
      "                                      'types': ['postal_code']}],\n",
      "              'formatted_address': 'Jui Khurd, Haryana 127030, India',\n",
      "              'geometry': {'bounds': {'northeast': {'lat': 28.6411274,\n",
      "                                                    'lng': 75.9485292},\n",
      "                                      'southwest': {'lat': 28.6275487,\n",
      "                                                    'lng': 75.9322372}},\n",
      "                           'location': {'lat': 28.63576,\n",
      "                                        'lng': 75.94342089999999},\n",
      "                           'location_type': 'APPROXIMATE',\n",
      "                           'viewport': {'northeast': {'lat': 28.6411274,\n",
      "                                                      'lng': 75.9485292},\n",
      "                                        'southwest': {'lat': 28.6275487,\n",
      "                                                      'lng': 75.9322372}}},\n",
      "              'place_id': 'ChIJYRW4k6n3EjkRpftIOobob0Y',\n",
      "              'types': ['locality', 'political']}],\n",
      " 'status': 'OK'}\n"
     ]
    }
   ],
   "source": [
    "# getting latitude and longitude from this data\n",
    "# very hard to get from this json format\n",
    "# hence use pprint i.e. pretty print\n",
    "from pprint import pprint\n",
    "pprint(data)"
   ]
  },
  {
   "cell_type": "code",
   "execution_count": 42,
   "metadata": {},
   "outputs": [
    {
     "name": "stdout",
     "output_type": "stream",
     "text": [
      "Latitude is :28.63576\n",
      "Longitude is :75.94342089999999\n"
     ]
    }
   ],
   "source": [
    "lat = data['results'][0]['geometry']['location']['lat']\n",
    "print(\"Latitude is :\" + str(lat))\n",
    "long = data['results'][0]['geometry']['location']['lng']\n",
    "print(\"Longitude is :\" + str(long))"
   ]
  },
  {
   "cell_type": "markdown",
   "metadata": {},
   "source": [
    "## POST request\n",
    "\n",
    "![](https://www.safaribooksonline.com/library/view/head-first-servlets/9780596516680/httpatomoreillycomsourceoreillyimages1377910.png.jpg)"
   ]
  },
  {
   "cell_type": "markdown",
   "metadata": {},
   "source": [
    "### Example 1\n",
    "\n",
    "[Pastebin API](https://pastebin.com/api)"
   ]
  },
  {
   "cell_type": "code",
   "execution_count": 44,
   "metadata": {},
   "outputs": [],
   "source": [
    "api_key = \"YOUR_API_KEY\""
   ]
  },
  {
   "cell_type": "code",
   "execution_count": 45,
   "metadata": {
    "collapsed": true
   },
   "outputs": [],
   "source": [
    "url = \"https://pastebin.com/api/api_post.php\""
   ]
  },
  {
   "cell_type": "code",
   "execution_count": 47,
   "metadata": {},
   "outputs": [],
   "source": [
    "code = \"Hello, world\""
   ]
  },
  {
   "cell_type": "code",
   "execution_count": 53,
   "metadata": {
    "collapsed": true
   },
   "outputs": [],
   "source": [
    "mydata = {\n",
    "    \"api_dev_key\":api_key,\n",
    "    \"api_option\": \"paste\",\n",
    "    \"api_paste_code\": code\n",
    "}"
   ]
  },
  {
   "cell_type": "code",
   "execution_count": 54,
   "metadata": {},
   "outputs": [],
   "source": [
    "r = requests.post(url,data=mydata)"
   ]
  },
  {
   "cell_type": "code",
   "execution_count": 55,
   "metadata": {},
   "outputs": [
    {
     "data": {
      "text/plain": [
       "b'https://pastebin.com/0zkiW9Dh'"
      ]
     },
     "execution_count": 55,
     "metadata": {},
     "output_type": "execute_result"
    }
   ],
   "source": [
    "r.content"
   ]
  },
  {
   "cell_type": "markdown",
   "metadata": {},
   "source": [
    "### Example 2\n",
    "\n",
    "https://m.me/mycodebot\n",
    "\n",
    "[HackeRank code checker API](https://www.hackerrank.com/api/docs)"
   ]
  },
  {
   "cell_type": "markdown",
   "metadata": {},
   "source": [
    "# 2. Downloading files\n",
    "\n",
    "![](http://noclone.net/images/file-types-s.png)\n",
    "\n",
    "Downloading large files in chunks!"
   ]
  },
  {
   "cell_type": "code",
   "execution_count": 74,
   "metadata": {
    "collapsed": true
   },
   "outputs": [],
   "source": [
    "from tqdm import tqdm"
   ]
  },
  {
   "cell_type": "code",
   "execution_count": 76,
   "metadata": {
    "collapsed": true
   },
   "outputs": [],
   "source": [
    "url = \"http://www.greenteapress.com/thinkpython/thinkpython.pdf\""
   ]
  },
  {
   "cell_type": "code",
   "execution_count": 77,
   "metadata": {},
   "outputs": [],
   "source": [
    "mychunk_size = 1024\n",
    "\n",
    "r = requests.get(url,stream=True) # since stream is true, file will be downloaded in parts, file not actually downloaded here\n",
    "\n",
    "myTotal = int(r.headers['content-length']) / mychunk_size"
   ]
  },
  {
   "cell_type": "code",
   "execution_count": 78,
   "metadata": {},
   "outputs": [
    {
     "data": {
      "text/plain": [
       "200"
      ]
     },
     "execution_count": 78,
     "metadata": {},
     "output_type": "execute_result"
    }
   ],
   "source": [
    "r.status_code"
   ]
  },
  {
   "cell_type": "code",
   "execution_count": 81,
   "metadata": {},
   "outputs": [
    {
     "name": "stderr",
     "output_type": "stream",
     "text": [
      "816it [00:09, 84.80it/s]                                     \n"
     ]
    }
   ],
   "source": [
    "with open(\"winterProjects.xls\",\"wb\") as f:\n",
    "    for chunk in tqdm(r.iter_content(chunk_size=mychunk_size),total=myTotal): # file is downloaded here in chunks\n",
    "        f.write(chunk)"
   ]
  },
  {
   "cell_type": "markdown",
   "metadata": {},
   "source": [
    "# 3. Web scraping\n",
    "\n",
    "![](https://cdn-images-1.medium.com/max/1600/0*yxxFwUEPQU3lAz4W.png)"
   ]
  },
  {
   "cell_type": "markdown",
   "metadata": {},
   "source": [
    "![](https://image.slidesharecdn.com/scrapingtotherescue-160713133749/95/getting-started-with-web-scraping-in-python-9-638.jpg?cb=1468417631)"
   ]
  },
  {
   "cell_type": "markdown",
   "metadata": {},
   "source": [
    "## [Beautiful Soup](https://www.crummy.com/software/BeautifulSoup/bs4/doc/)\n",
    "\n",
    ">Beautiful Soup is a Python library for pulling data out of HTML and XML files. It works with your favorite parser to provide idiomatic ways of navigating, searching, and modifying the parse tree. It commonly saves programmers hours or days of work.\n",
    "\n",
    "### Installation\n",
    "\n",
    "```\n",
    "pip install bs4\n",
    "```\n",
    "\n",
    "**Bonus:**\n",
    "```\n",
    "pip install html5lib\n",
    "```"
   ]
  },
  {
   "cell_type": "markdown",
   "metadata": {},
   "source": [
    "https://www.values.com/inspirational-quotes"
   ]
  },
  {
   "cell_type": "code",
   "execution_count": 82,
   "metadata": {
    "collapsed": true
   },
   "outputs": [],
   "source": [
    "from bs4 import BeautifulSoup"
   ]
  },
  {
   "cell_type": "code",
   "execution_count": 83,
   "metadata": {
    "collapsed": true
   },
   "outputs": [],
   "source": [
    "url = \"https://www.values.com/inspirational-quotes\"\n",
    "r = requests.get(url)"
   ]
  },
  {
   "cell_type": "code",
   "execution_count": 86,
   "metadata": {},
   "outputs": [],
   "source": [
    "# r.content\n",
    "soup = BeautifulSoup(r.content,\"html5lib\")"
   ]
  },
  {
   "cell_type": "code",
   "execution_count": 87,
   "metadata": {},
   "outputs": [
    {
     "name": "stdout",
     "output_type": "stream",
     "text": [
      "<!DOCTYPE html>\n",
      "<html itemscope=\"\" itemtype=\"https://schema.org/Organization\" lang=\"en\">\n",
      " <head>\n",
      "  <script type=\"text/javascript\">\n",
      "   if (window.location.hash && window.location.hash == '#_=_') {\n",
      "\t\t\t\twindow.location.hash = '';\n",
      "\t\t\t\thistory.pushState('', document.title, window.location.pathname);\n",
      "\t\t\t\te.preventDefault();\n",
      "\t\t\t}\n",
      "  </script>\n",
      "  <link href=\"https://www.values.com/daily-quotes-feed.atom\" rel=\"alternate\" title=\"RSS\" type=\"application/rss+xml\"/>\n",
      "  <meta charset=\"utf-8\"/>\n",
      "  <meta content=\"width=device-width, initial-scale=1.0, minimal-ui\" name=\"viewport\"/>\n",
      "  <title>\n",
      "   Inspirational Quotes - Motivational Quotes - Leadership Quotes | Values.com\n",
      "  </title>\n",
      "  <meta content=\"Find the perfect quotation from our hand-picked collection of inspiring quotes by hundreds of authors.\" name=\"description\"/>\n",
      "  <link href=\"https://www.values.com/humans.txt\" rel=\"author\" type=\"text/plain\"/>\n",
      "  <link href=\"/assets/application-b28e34d4ef58cf66b3a590aca02474be.css\" media=\"all\" rel=\"stylesheet\"/>\n",
      "  <meta content=\"authenticity_token\" name=\"csrf-param\"/>\n",
      "  <meta content=\"J8PttbU8wJUzQpe8GGEY5OeMH6ve0Z2maAKqWGt24PI/VN5WAVrQUFSDfiAsELRCbIDriF6XV6gJHCguey473A==\" name=\"csrf-token\"/>\n",
      "  <script>\n",
      "   (function(d) {\n",
      "\t\t\t    var config = {\n",
      "\t\t\t      kitId: 'aew6eyc',\n",
      "\t\t\t      scriptTimeout: 3000\n",
      "\t\t\t    },\n",
      "\t\t\t    h=d.documentElement,t=setTimeout(function(){h.className=h.className.replace(/\\bwf-loading\\b/g,\"\")+\" wf-inactive\";},config.scriptTimeout),tk=d.createElement(\"script\"),f=false,s=d.getElementsByTagName(\"script\")[0],a;h.className+=\" wf-loading\";tk.src='//use.typekit.net/'+config.kitId+'.js';tk.async=true;tk.onload=tk.onreadystatechange=function(){a=this.readyState;if(f||a&&a!=\"complete\"&&a!=\"loaded\")return;f=true;clearTimeout(t);try{Typekit.load(config)}catch(e){}};s.parentNode.insertBefore(tk,s)\n",
      "\t\t\t  })(document);\n",
      "  </script>\n",
      "  <script>\n",
      "   (function(i,s,o,g,r,a,m){i['GoogleAnalyticsObject']=r;i[r]=i[r]||function(){\n",
      "\t\t\t(i[r].q=i[r].q||[]).push(arguments)},i[r].l=1*new Date();a=s.createElement(o),\n",
      "\t\t\tm=s.getElementsByTagName(o)[0];a.async=1;a.src=g;m.parentNode.insertBefore(a,m)\n",
      "\t\t\t})(window,document,'script','//www.google-analytics.com/analytics.js','ga');\n",
      "\n",
      "\t\t\tga('create', 'UA-1179606-1', 'auto');\n",
      "\t\t\tga('require', 'displayfeatures');\n",
      "\t\t\tga('send', 'pageview');\n",
      "  </script>\n",
      "  <script src=\"/assets/application-e96ba36e9cba9bb639b69d27a2d7c7f0.js\">\n",
      "  </script>\n",
      "  <meta content=\"Values.com\" property=\"og:site_name\"/>\n",
      "  <meta content=\"Inspirational Quotes - Motivational Quotes - Leadership Quotes\" property=\"og:title\"/>\n",
      "  <meta content=\"website\" property=\"og:type\"/>\n",
      "  <meta content=\"https://downloads.values.com/valuescom.jpg\" property=\"og:image\"/>\n",
      "  <meta content=\"https://www.values.com/inspirational-quotes\" property=\"og:url\"/>\n",
      "  <meta content=\"Find the perfect quotation from our hand-picked collection of inspiring quotes by hundreds of authors.\" property=\"og:description\"/>\n",
      "  <meta content=\"149130505293187\" property=\"fb:app_id\"/>\n",
      "  <meta content=\"summary_large_image\" name=\"twitter:card\"/>\n",
      "  <meta content=\"@valuescom\" name=\"twitter:site\"/>\n",
      "  <meta content=\"@valuescom\" name=\"twitter:creator\"/>\n",
      "  <meta content=\"Inspirational Quotes - Motivational Quotes - Leadership Quotes\" name=\"twitter:title\"/>\n",
      "  <meta content=\"Find the perfect quotation from our hand-picked collection of inspiring quotes by hundreds of authors.\" name=\"twitter:description\"/>\n",
      "  <meta content=\"https://downloads.values.com/valuescom.jpg\" name=\"twitter:image\"/>\n",
      "  <meta content=\"https://www.values.com/inspirational-quotes\" name=\"twitter:url\"/>\n",
      "  <meta content=\"values.com\" itemprop=\"name\"/>\n",
      "  <meta content=\"Find the perfect quotation from our hand-picked collection of inspiring quotes by hundreds of authors.\" itemprop=\"description\"/>\n",
      "  <meta content=\"https://downloads.values.com/valuescom.jpg\" itemprop=\"image\"/>\n",
      "  <link href=\"/apple-touch-icon-57x57.png\" rel=\"apple-touch-icon\" sizes=\"57x57\"/>\n",
      "  <link href=\"/apple-touch-icon-114x114.png\" rel=\"apple-touch-icon\" sizes=\"114x114\"/>\n",
      "  <link href=\"/apple-touch-icon-72x72.png\" rel=\"apple-touch-icon\" sizes=\"72x72\"/>\n",
      "  <link href=\"/apple-touch-icon-144x144.png\" rel=\"apple-touch-icon\" sizes=\"144x144\"/>\n",
      "  <link href=\"/apple-touch-icon-60x60.png\" rel=\"apple-touch-icon\" sizes=\"60x60\"/>\n",
      "  <link href=\"/apple-touch-icon-120x120.png\" rel=\"apple-touch-icon\" sizes=\"120x120\"/>\n",
      "  <link href=\"/apple-touch-icon-76x76.png\" rel=\"apple-touch-icon\" sizes=\"76x76\"/>\n",
      "  <link href=\"/apple-touch-icon-152x152.png\" rel=\"apple-touch-icon\" sizes=\"152x152\"/>\n",
      "  <link href=\"/apple-touch-icon-180x180.png\" rel=\"apple-touch-icon\" sizes=\"180x180\"/>\n",
      "  <link href=\"/favicon-192x192.png\" rel=\"icon\" sizes=\"192x192\" type=\"image/png\"/>\n",
      "  <link href=\"/favicon-160x160.png\" rel=\"icon\" sizes=\"160x160\" type=\"image/png\"/>\n",
      "  <link href=\"/favicon-96x96.png\" rel=\"icon\" sizes=\"96x96\" type=\"image/png\"/>\n",
      "  <link href=\"/favicon-16x16.png\" rel=\"icon\" sizes=\"16x16\" type=\"image/png\"/>\n",
      "  <link href=\"/favicon-32x32.png\" rel=\"icon\" sizes=\"32x32\" type=\"image/png\"/>\n",
      "  <meta content=\"#ffffff\" name=\"msapplication-TileColor\"/>\n",
      "  <meta content=\"/mstile-144x144.png\" name=\"msapplication-TileImage\"/>\n",
      " </head>\n",
      " <body class=\"quotes_index\">\n",
      "  <div class=\"page\">\n",
      "   <div class=\"passiton_ad hide-for-small\">\n",
      "    <div class=\"row\">\n",
      "     <div class=\"large-4 large-push-4 medium-4 medium-push-4 columns text-center\">\n",
      "      <div class=\"joshua_faders\">\n",
      "       <div>\n",
      "        <a href=\"https://www.passiton.com/joshuas-heart\">\n",
      "         <img alt=\"0\" class=\"shadow\" src=\"/assets/joshua_williams/0-9e458913844de6963227eb14f771c04e.jpg\"/>\n",
      "        </a>\n",
      "       </div>\n",
      "       <div>\n",
      "        <a href=\"https://www.passiton.com/joshuas-heart\">\n",
      "         <img alt=\"1\" class=\"shadow\" src=\"/assets/joshua_williams/1-0c3f0b8db14643bd17d30848c4bf7d16.jpg\"/>\n",
      "        </a>\n",
      "       </div>\n",
      "       <div>\n",
      "        <a href=\"https://www.passiton.com/joshuas-heart\">\n",
      "         <img alt=\"2\" class=\"shadow\" src=\"/assets/joshua_williams/2-28b0509205d5c184e9f4d19e593d921d.jpg\"/>\n",
      "        </a>\n",
      "       </div>\n",
      "       <div>\n",
      "        <a href=\"https://www.passiton.com/joshuas-heart\">\n",
      "         <img alt=\"3\" class=\"shadow\" src=\"/assets/joshua_williams/3-32df3377f8277189ae300084b05058ef.jpg\"/>\n",
      "        </a>\n",
      "       </div>\n",
      "       <div>\n",
      "        <a href=\"https://www.passiton.com/joshuas-heart\">\n",
      "         <img alt=\"4\" class=\"shadow\" src=\"/assets/joshua_williams/4-f6d2718da78e325d78f36c573d9159fc.jpg\"/>\n",
      "        </a>\n",
      "       </div>\n",
      "       <div>\n",
      "        <a href=\"https://www.passiton.com/joshuas-heart\">\n",
      "         <img alt=\"5\" class=\"shadow\" src=\"/assets/joshua_williams/5-522b42fa5f70409b6da9fd5ebf25fc45.jpg\"/>\n",
      "        </a>\n",
      "       </div>\n",
      "       <div>\n",
      "        <a href=\"https://www.passiton.com/joshuas-heart\">\n",
      "         <img alt=\"6\" class=\"shadow\" src=\"/assets/joshua_williams/6-62606031ca88c9afee2d5dd4094d5eab.jpg\"/>\n",
      "        </a>\n",
      "       </div>\n",
      "       <div>\n",
      "        <a href=\"https://www.passiton.com/joshuas-heart\">\n",
      "         <img alt=\"7\" class=\"shadow\" src=\"/assets/joshua_williams/7-07542fbed962b3c84cc3209c0b167649.jpg\"/>\n",
      "        </a>\n",
      "       </div>\n",
      "       <div>\n",
      "        <a href=\"https://www.passiton.com/joshuas-heart\">\n",
      "         <img alt=\"8\" class=\"shadow\" src=\"/assets/joshua_williams/8-c667c051757b9540bb642623b235215e.jpg\"/>\n",
      "        </a>\n",
      "       </div>\n",
      "      </div>\n",
      "      <p>\n",
      "      </p>\n",
      "     </div>\n",
      "     <div class=\"large-4 large-pull-4 medium-4 medium-pull-4 columns text-right\">\n",
      "      <span class=\"josh_caption\">\n",
      "       <a href=\"https://www.passiton.com/joshuas-heart\">\n",
      "        <img alt=\"Arrow\" class=\"img-responsive\" src=\"/assets/arrow-d9d989cff18e9848b212492a935fb759.png\" style=\"max-width: 160px; position: relative; left: -5px; margin-bottom: 10px;\"/>\n",
      "       </a>\n",
      "      </span>\n",
      "     </div>\n",
      "     <div class=\"large-4 medium-4 columns text-left\">\n",
      "      <span class=\"josh_caption\">\n",
      "       <a href=\"https://www.passiton.com/joshuas-heart\">\n",
      "        <img alt=\"Passiton logo\" class=\"img-responsive\" src=\"/assets/passiton_logo-cf7c1c6f67e485c4ee5d8fb021542841.png\" style=\"max-width: 210px; position: relative; left: -5px; margin-bottom: 10px;\"/>\n",
      "       </a>\n",
      "       <br/>\n",
      "       See our new stories and new campaigns at PassitOn.com! Our first video features Joshua Williams, who at the age of 5, started his own non-profit to feed the homeless. To date he and his friends have fed over 300,000 people!\n",
      "       <br/>\n",
      "       <br/>\n",
      "       <a href=\"https://www.passiton.com/joshuas-heart\">\n",
      "        www.passiton.com\n",
      "       </a>\n",
      "      </span>\n",
      "     </div>\n",
      "    </div>\n",
      "   </div>\n",
      "   <div class=\"off-canvas-wrap\">\n",
      "    <div class=\"row hide-for-small\">\n",
      "     <div class=\"large-5 medium-5 columns text-left\">\n",
      "      <p class=\"social_media_icon_links\">\n",
      "       <a class=\"tiny button facebook_button radius text-center\" href=\"https://www.facebook.com/valuescom\">\n",
      "        <i class=\"fa fa-facebook\">\n",
      "        </i>\n",
      "       </a>\n",
      "       <a class=\"tiny button twitter_button radius text-center\" href=\"https://twitter.com/valuescom\">\n",
      "        <i class=\"fa fa-twitter\">\n",
      "        </i>\n",
      "       </a>\n",
      "       <a class=\"tiny button pinterest_button radius text-center\" href=\"https://www.pinterest.com/passiton/\">\n",
      "        <i class=\"fa fa-pinterest-p\">\n",
      "        </i>\n",
      "       </a>\n",
      "       <a class=\"tiny button instagram_button radius text-center\" href=\"https://www.instagram.com/passiton_com/\">\n",
      "        <i class=\"fa fa-instagram\">\n",
      "        </i>\n",
      "       </a>\n",
      "       <a class=\"tiny button youtube_button radius text-center\" href=\"https://www.youtube.com/user/values/\">\n",
      "        <i class=\"fa fa-youtube-play\">\n",
      "        </i>\n",
      "       </a>\n",
      "      </p>\n",
      "      <span class=\"pass_it_on_wordmark\">\n",
      "       #PassItOn\n",
      "       <sup>\n",
      "        ®\n",
      "       </sup>\n",
      "      </span>\n",
      "     </div>\n",
      "     <div class=\"large-2 medium-2 columns text-center\">\n",
      "      <a href=\"/\">\n",
      "       <img alt=\"Valuescom logo\" height=\"100\" src=\"/assets/valuescom_logo-97ebe580322a02f74201166c32e45b57.png\" style=\"margin-top: 5px;\" width=\"100\"/>\n",
      "      </a>\n",
      "     </div>\n",
      "     <div class=\"large-5 medium-5 columns text-right login-logout\">\n",
      "      <p class=\"languages\">\n",
      "       <a href=\"https://www.values.com/\">\n",
      "        English\n",
      "       </a>\n",
      "       |\n",
      "       <a href=\"https://values.cn.com/\">\n",
      "        中文\n",
      "       </a>\n",
      "       |\n",
      "       <a href=\"https://www.pasala.org/\">\n",
      "        Español\n",
      "       </a>\n",
      "       |\n",
      "       <a href=\"https://www.umavidamelhor.org/\">\n",
      "        Português\n",
      "       </a>\n",
      "      </p>\n",
      "     </div>\n",
      "    </div>\n",
      "    <div class=\"inner-wrap\">\n",
      "     <nav class=\"tab-bar show-for-small-only\">\n",
      "      <section class=\"left-small\">\n",
      "       <a class=\"left-off-canvas-toggle menu-icon\">\n",
      "        <span>\n",
      "        </span>\n",
      "       </a>\n",
      "      </section>\n",
      "      <section class=\"middle tab-bar-section\">\n",
      "       <h1 class=\"title\">\n",
      "        VALUES.COM\n",
      "       </h1>\n",
      "      </section>\n",
      "     </nav>\n",
      "     <aside class=\"left-off-canvas-menu\">\n",
      "      <ul class=\"off-canvas-list\">\n",
      "       <li>\n",
      "        <label>\n",
      "         SITE NAVIGATION\n",
      "        </label>\n",
      "       </li>\n",
      "       <li>\n",
      "        <a href=\"/\">\n",
      "         home\n",
      "        </a>\n",
      "       </li>\n",
      "       <li>\n",
      "        <a href=\"/teaching-values\">\n",
      "         all values\n",
      "        </a>\n",
      "       </li>\n",
      "       <li>\n",
      "        <a href=\"/inspirational-sayings-billboards\">\n",
      "         billboards\n",
      "        </a>\n",
      "       </li>\n",
      "       <li>\n",
      "        <a href=\"/inspirational-stories-tv-spots\">\n",
      "         videos\n",
      "        </a>\n",
      "       </li>\n",
      "       <li>\n",
      "        <a href=\"/inspirational-quotes\">\n",
      "         quotes\n",
      "        </a>\n",
      "       </li>\n",
      "       <li>\n",
      "        <a href=\"/your-inspirational-stories\">\n",
      "         personal stories\n",
      "        </a>\n",
      "       </li>\n",
      "       <li>\n",
      "        <a href=\"/your-everyday-heroes\">\n",
      "         everyday hero stories\n",
      "        </a>\n",
      "       </li>\n",
      "       <li>\n",
      "        <a href=\"/radio\">\n",
      "         radio ads\n",
      "        </a>\n",
      "       </li>\n",
      "       <li>\n",
      "        <a href=\"/inspirational-audio-stories\">\n",
      "         podcasts\n",
      "        </a>\n",
      "       </li>\n",
      "       <li>\n",
      "        <a href=\"/who-we-are\">\n",
      "         who we are\n",
      "        </a>\n",
      "       </li>\n",
      "       <li>\n",
      "        <a href=\"/contact-us\">\n",
      "         contact us\n",
      "        </a>\n",
      "       </li>\n",
      "       <li>\n",
      "        <a href=\"/poster-requests/new\">\n",
      "         request free posters\n",
      "        </a>\n",
      "       </li>\n",
      "       <li>\n",
      "        <a href=\"/media-companies\">\n",
      "         for media companies\n",
      "        </a>\n",
      "       </li>\n",
      "       <li>\n",
      "        <a href=\"/terms-of-use\">\n",
      "         terms of use\n",
      "        </a>\n",
      "       </li>\n",
      "       <li>\n",
      "        <a href=\"/privacy-policy\">\n",
      "         privacy policy\n",
      "        </a>\n",
      "       </li>\n",
      "       <li>\n",
      "        <a href=\"/join\">\n",
      "         join us\n",
      "        </a>\n",
      "       </li>\n",
      "      </ul>\n",
      "     </aside>\n",
      "     <div class=\"contain-to-grid sticky\">\n",
      "      <nav class=\"top-bar hide-for-small\" data-topbar=\"\">\n",
      "       <section class=\"top-bar-section\">\n",
      "        <ul class=\"left\">\n",
      "         <li>\n",
      "          <a href=\"/\">\n",
      "           <i class=\"fa fa-home\">\n",
      "           </i>\n",
      "          </a>\n",
      "         </li>\n",
      "         <li class=\"has-dropdown\">\n",
      "          <a href=\"/teaching-values\">\n",
      "           values\n",
      "          </a>\n",
      "          <ul class=\"dropdown text-left\">\n",
      "           <li>\n",
      "            <a href=\"/teaching-values\">\n",
      "             all values\n",
      "            </a>\n",
      "           </li>\n",
      "          </ul>\n",
      "         </li>\n",
      "         <li class=\"has-dropdown\">\n",
      "          <a href=\"/inspirational-sayings-billboards\">\n",
      "           billboards\n",
      "          </a>\n",
      "          <ul class=\"dropdown text-left\">\n",
      "           <li>\n",
      "            <a href=\"/inspirational-sayings-billboards\">\n",
      "             all billboards\n",
      "            </a>\n",
      "           </li>\n",
      "           <li>\n",
      "            <a href=\"/your-billboards/create\">\n",
      "             create your own billboard\n",
      "            </a>\n",
      "           </li>\n",
      "           <li>\n",
      "            <a href=\"/billboard-videos\">\n",
      "             behind the billboard videos\n",
      "            </a>\n",
      "           </li>\n",
      "           <li>\n",
      "            <a href=\"/media-companies\">\n",
      "             for media companies\n",
      "            </a>\n",
      "           </li>\n",
      "          </ul>\n",
      "         </li>\n",
      "         <li class=\"has-dropdown\">\n",
      "          <a href=\"/inspirational-stories-tv-spots\">\n",
      "           videos\n",
      "          </a>\n",
      "          <ul class=\"dropdown text-left\">\n",
      "           <li>\n",
      "            <a href=\"/inspirational-stories-tv-spots\">\n",
      "             tv commercials\n",
      "            </a>\n",
      "           </li>\n",
      "           <li>\n",
      "            <a href=\"https://values.cn.com/videos/\">\n",
      "             视频 mandarin tv commercials\n",
      "            </a>\n",
      "           </li>\n",
      "           <li>\n",
      "            <a href=\"/billboard-videos\">\n",
      "             behind the billboard videos\n",
      "            </a>\n",
      "           </li>\n",
      "           <li>\n",
      "            <a href=\"/other-inspiring-videos\">\n",
      "             videos\n",
      "            </a>\n",
      "           </li>\n",
      "           <li>\n",
      "            <a href=\"/media-companies\">\n",
      "             for media companies\n",
      "            </a>\n",
      "           </li>\n",
      "          </ul>\n",
      "         </li>\n",
      "         <li class=\"has-dropdown\">\n",
      "          <a href=\"/inspirational-quotes\">\n",
      "           quotes\n",
      "          </a>\n",
      "          <ul class=\"dropdown text-left\">\n",
      "           <li>\n",
      "            <a href=\"/inspirational-quotes\">\n",
      "             inspiring quotations\n",
      "            </a>\n",
      "           </li>\n",
      "           <li>\n",
      "            <a href=\"/join\">\n",
      "             subscribe to daily quotes\n",
      "            </a>\n",
      "           </li>\n",
      "          </ul>\n",
      "         </li>\n",
      "         <li class=\"has-dropdown\">\n",
      "          <a href=\"/create-and-share\">\n",
      "           create &amp; share\n",
      "          </a>\n",
      "          <ul class=\"dropdown text-left\">\n",
      "           <li>\n",
      "            <a href=\"/your-inspirational-stories\">\n",
      "             personal stories\n",
      "            </a>\n",
      "           </li>\n",
      "           <li>\n",
      "            <a href=\"/your-everyday-heroes\">\n",
      "             everyday hero stories\n",
      "            </a>\n",
      "           </li>\n",
      "           <li>\n",
      "            <a href=\"/your-billboards/create\">\n",
      "             create your own billboard\n",
      "            </a>\n",
      "           </li>\n",
      "          </ul>\n",
      "         </li>\n",
      "         <li class=\"has-dropdown hide-for-medium\">\n",
      "          <a href=\"/more-materials\">\n",
      "           more materials\n",
      "          </a>\n",
      "          <ul class=\"dropdown text-left\">\n",
      "           <li>\n",
      "            <a href=\"/inspirational-audio-stories\">\n",
      "             podcasts\n",
      "            </a>\n",
      "           </li>\n",
      "           <li>\n",
      "            <a href=\"/pass-it-on-ecards\">\n",
      "             ecards\n",
      "            </a>\n",
      "           </li>\n",
      "           <li>\n",
      "            <a href=\"/pass-it-on-downloads\">\n",
      "             downloads\n",
      "            </a>\n",
      "           </li>\n",
      "           <li class=\"show-for-medium hide-for-large\">\n",
      "            <a href=\"/schools\">\n",
      "             resources for schools\n",
      "            </a>\n",
      "           </li>\n",
      "           <li class=\"show-for-medium hide-for-large\">\n",
      "            <a href=\"/values-on-campus\">\n",
      "             values on campus\n",
      "            </a>\n",
      "           </li>\n",
      "           <li class=\"show-for-medium hide-for-large\">\n",
      "            <a href=\"/poster-requests/new\">\n",
      "             request free posters\n",
      "            </a>\n",
      "           </li>\n",
      "           <li>\n",
      "            <a href=\"/media-companies\">\n",
      "             for media companies\n",
      "            </a>\n",
      "           </li>\n",
      "          </ul>\n",
      "         </li>\n",
      "         <li class=\"has-dropdown hide-for-medium\">\n",
      "          <a href=\"/radio\">\n",
      "           radio ads\n",
      "          </a>\n",
      "          <ul class=\"dropdown text-left\">\n",
      "           <li>\n",
      "            <a href=\"/radio\">\n",
      "             radio ads\n",
      "            </a>\n",
      "           </li>\n",
      "           <li>\n",
      "            <a href=\"https://www.passiton-media.com/live-announcer-copy\">\n",
      "             live reads\n",
      "            </a>\n",
      "           </li>\n",
      "          </ul>\n",
      "         </li>\n",
      "         <li class=\"has-dropdown hide-for-medium\">\n",
      "          <a href=\"/schools\">\n",
      "           schools\n",
      "          </a>\n",
      "          <ul class=\"dropdown text-left\">\n",
      "           <li>\n",
      "            <a href=\"/schools\">\n",
      "             resources for schools\n",
      "            </a>\n",
      "           </li>\n",
      "           <li>\n",
      "            <a href=\"/values-on-campus\">\n",
      "             values on campus\n",
      "            </a>\n",
      "           </li>\n",
      "           <li>\n",
      "            <a href=\"/poster-requests/new\">\n",
      "             request free posters\n",
      "            </a>\n",
      "           </li>\n",
      "          </ul>\n",
      "         </li>\n",
      "         <li class=\"has-dropdown\">\n",
      "          <a href=\"/who-we-are\">\n",
      "           who we are\n",
      "          </a>\n",
      "          <ul class=\"dropdown text-left\">\n",
      "           <li>\n",
      "            <a href=\"/who-we-are\">\n",
      "             about us\n",
      "            </a>\n",
      "           </li>\n",
      "           <li>\n",
      "            <a href=\"/who-we-are/faq\">\n",
      "             answers to FAQs\n",
      "            </a>\n",
      "           </li>\n",
      "           <li>\n",
      "            <a href=\"/who-we-are/awards-and-recognition\">\n",
      "             foundation recognition\n",
      "            </a>\n",
      "           </li>\n",
      "           <li>\n",
      "            <a href=\"/contact-us\">\n",
      "             contact us\n",
      "            </a>\n",
      "           </li>\n",
      "           <li>\n",
      "            <a href=\"/media-companies\">\n",
      "             for media companies\n",
      "            </a>\n",
      "           </li>\n",
      "          </ul>\n",
      "         </li>\n",
      "        </ul>\n",
      "       </section>\n",
      "      </nav>\n",
      "     </div>\n",
      "     <section class=\"main-section\">\n",
      "      <div class=\"row\">\n",
      "       <div class=\"row\">\n",
      "        <div class=\"large-12 medium-12 small-12 columns\">\n",
      "         <div class=\"inbox_inspiration text-left\">\n",
      "          <div class=\"row\">\n",
      "           <div class=\"large-4 medium-4 small-12 columns middle text-left\">\n",
      "            <h5>\n",
      "             Subscribe to our FREE\n",
      "             <br/>\n",
      "             inspirational quote emails!\n",
      "            </h5>\n",
      "            <p style=\"color: white\">\n",
      "             To subscribe to our daily quotes, please visit our new website at\n",
      "             <a href=\"https://www.passiton.com/inspirational-quotes\" style=\"color: white;\">\n",
      "              passiton.com\n",
      "             </a>\n",
      "            </p>\n",
      "           </div>\n",
      "           <div class=\"large-8 medium-8 columns hide-for-small\">\n",
      "            <div class=\"row collapse\">\n",
      "             <div class=\"large-4 medium-4 columns bumper\">\n",
      "              <div class=\"cycle-slideshow\" data-cycle-fx=\"flipHorz\" data-cycle-timeout=\"7000\">\n",
      "               <img alt=\"20170116 monday quote\" src=\"https://quotes.values.com/quote_artwork/3763/medium/20170116_monday_quote.jpg\"/>\n",
      "               <img alt=\"Friday quote\" src=\"https://quotes.values.com/quote_artwork/7347/medium/friday_quote.jpg\"/>\n",
      "               <img alt=\"20170303 friday quote\" src=\"https://quotes.values.com/quote_artwork/5014/medium/20170303_friday_quote.jpg\"/>\n",
      "              </div>\n",
      "             </div>\n",
      "             <div class=\"large-4 medium-4 columns bumper\">\n",
      "              <div class=\"cycle-slideshow\" data-cycle-fx=\"flipHorz\" data-cycle-timeout=\"6800\">\n",
      "               <img alt=\"20161213 tuesday quote new\" src=\"https://quotes.values.com/quote_artwork/7579/medium/20161213_tuesday_quote_new.jpg\"/>\n",
      "               <img alt=\"Monday quote\" src=\"https://quotes.values.com/quote_artwork/7313/medium/monday_quote.jpg\"/>\n",
      "               <img alt=\"Friday quote\" src=\"https://quotes.values.com/quote_artwork/7302/medium/friday_quote.jpg\"/>\n",
      "              </div>\n",
      "             </div>\n",
      "             <div class=\"large-4 medium-4 columns bumper\">\n",
      "              <div class=\"cycle-slideshow\" data-cycle-fx=\"flipHorz\" data-cycle-timeout=\"6600\">\n",
      "               <img alt=\"20160906 tuesday quote\" src=\"https://quotes.values.com/quote_artwork/6741/medium/20160906_tuesday_quote.jpg\"/>\n",
      "               <img alt=\"Wednesday quote\" src=\"https://quotes.values.com/quote_artwork/7280/medium/wednesday_quote.jpg\"/>\n",
      "               <img alt=\"Tuesday quote\" src=\"https://quotes.values.com/quote_artwork/7279/medium/tuesday_quote.jpg\"/>\n",
      "              </div>\n",
      "             </div>\n",
      "            </div>\n",
      "           </div>\n",
      "          </div>\n",
      "         </div>\n",
      "        </div>\n",
      "       </div>\n",
      "       <div class=\"large-12 medium-12 columns text-center\">\n",
      "        <form accept-charset=\"UTF-8\" action=\"/inspirational-quotes\" class=\"large_search\" method=\"get\" style=\"margin-top: 20px;\">\n",
      "         <input name=\"utf8\" type=\"hidden\" value=\"✓\"/>\n",
      "         <input id=\"q\" name=\"q\" placeholder=\"Search quotes by value, author or keyword\" type=\"text\"/>\n",
      "         <button class=\"button tiny radius secondary search_button\" type=\"submit\">\n",
      "          <i class=\"fa fa-search\">\n",
      "          </i>\n",
      "          search quotes\n",
      "         </button>\n",
      "        </form>\n",
      "       </div>\n",
      "      </div>\n",
      "      <div class=\"row\">\n",
      "       <div class=\"large-12 columns transitions-enabled large-centered clearfix\" id=\"container\">\n",
      "        <div class=\"quote\" data-url=\"/inspirational-quotes/4371-in-union-there-is-strength\">\n",
      "         <a href=\"/inspirational-quotes/4371-in-union-there-is-strength\">\n",
      "          <img alt=\"#unity #passiton www.values.com\" src=\"https://quotes.values.com/quote_artwork/4371/medium/11.16PassItOn_-_Social_Media_-_General_Quotes_20171106_-_Compassion_-_Unity_FINAL-11.jpg?1510182531\"/>\n",
      "         </a>\n",
      "         <h5>\n",
      "          UNITY\n",
      "         </h5>\n",
      "         <h6>\n",
      "          <a href=\"/inspirational-quotes/4371-in-union-there-is-strength\">\n",
      "           In union there is strength.\n",
      "          </a>\n",
      "         </h6>\n",
      "         <p>\n",
      "          Aesop\n",
      "         </p>\n",
      "        </div>\n",
      "        <div class=\"quote\" data-url=\"/inspirational-quotes/7701-the-things-that-we-share-in-our-world-are-far\">\n",
      "         <a href=\"/inspirational-quotes/7701-the-things-that-we-share-in-our-world-are-far\">\n",
      "          <img alt=\"#unity #passiton www.values.com\" src=\"https://quotes.values.com/quote_artwork/7701/medium/11.15PassItOn_-_Social_Media_-_General_Quotes_20171106_-_Compassion_-_Unity_FINAL-9.jpg?1510182441\"/>\n",
      "         </a>\n",
      "         <h5>\n",
      "          UNITY\n",
      "         </h5>\n",
      "         <h6>\n",
      "          <a href=\"/inspirational-quotes/7701-the-things-that-we-share-in-our-world-are-far\">\n",
      "           The things that we share in our world are far more valuable than those which divide us.\n",
      "          </a>\n",
      "         </h6>\n",
      "         <p>\n",
      "          Captain Donald Williams\n",
      "         </p>\n",
      "        </div>\n",
      "        <div class=\"quote\" data-url=\"/inspirational-quotes/7700-it-is-not-in-numbers-but-in-unity-that-our\">\n",
      "         <a href=\"/inspirational-quotes/7700-it-is-not-in-numbers-but-in-unity-that-our\">\n",
      "          <img alt=\"#unity #passiton www.values.com\" src=\"https://quotes.values.com/quote_artwork/7700/medium/11.14PassItOn_-_Social_Media_-_General_Quotes_20171106_-_Compassion_-_Unity_FINAL-7.jpg?1510182260\"/>\n",
      "         </a>\n",
      "         <h5>\n",
      "          UNITY\n",
      "         </h5>\n",
      "         <h6>\n",
      "          <a href=\"/inspirational-quotes/7700-it-is-not-in-numbers-but-in-unity-that-our\">\n",
      "           It is not in numbers, but in unity, that our great strength lies.\n",
      "          </a>\n",
      "         </h6>\n",
      "         <p>\n",
      "          Thomas Paine\n",
      "         </p>\n",
      "        </div>\n",
      "        <div class=\"quote\" data-url=\"/inspirational-quotes/4434-my-humanity-is-bound-up-in-yours-for-we-can\">\n",
      "         <a href=\"/inspirational-quotes/4434-my-humanity-is-bound-up-in-yours-for-we-can\">\n",
      "          <img alt=\"#unity #passiton www.values.com\" src=\"https://quotes.values.com/quote_artwork/4434/medium/11.13PassItOn_-_Social_Media_-_General_Quotes_20171106_-_Compassion_-_Unity_FINAL-5.jpg?1510182120\"/>\n",
      "         </a>\n",
      "         <h5>\n",
      "          UNITY\n",
      "         </h5>\n",
      "         <h6>\n",
      "          <a href=\"/inspirational-quotes/4434-my-humanity-is-bound-up-in-yours-for-we-can\">\n",
      "           My humanity is bound up in yours, for we can only be human together.\n",
      "          </a>\n",
      "         </h6>\n",
      "         <p>\n",
      "          Archbishop Desmond Tutu\n",
      "         </p>\n",
      "        </div>\n",
      "        <div class=\"quote\" data-url=\"/inspirational-quotes/6798-how-far-you-go-in-life-depends-on-your-being\">\n",
      "         <a href=\"/inspirational-quotes/6798-how-far-you-go-in-life-depends-on-your-being\">\n",
      "          <img alt=\"#compassion #passiton www.values.com\" src=\"https://quotes.values.com/quote_artwork/6798/medium/11.10PassItOn_-_Social_Media_-_General_Quotes_20171106_-_Compassion_-_Unity_FINAL-3.jpg?1510181995\"/>\n",
      "         </a>\n",
      "         <h5>\n",
      "          COMPASSION\n",
      "         </h5>\n",
      "         <h6>\n",
      "          <a href=\"/inspirational-quotes/6798-how-far-you-go-in-life-depends-on-your-being\">\n",
      "           How far you go in life depends on your being tender with the young, compassionate with the aged, sympathetic with the striving, and tolerant of the weak and the strong, because someday in your life, you will have been all of these.\n",
      "          </a>\n",
      "         </h6>\n",
      "         <p>\n",
      "          George Washington Carver\n",
      "         </p>\n",
      "        </div>\n",
      "        <div class=\"quote\" data-url=\"/inspirational-quotes/6166-our-task-must-be-to-widen-our-circle-of\">\n",
      "         <a href=\"/inspirational-quotes/6166-our-task-must-be-to-widen-our-circle-of\">\n",
      "          <img alt=\"#compassion #passiton  www.values.com\" src=\"https://quotes.values.com/quote_artwork/6166/medium/11.9PassItOn_-_Social_Media_-_General_Quotes_20171106_-_Compassion_-_Unity_FINAL-1.jpg?1510181744\"/>\n",
      "         </a>\n",
      "         <h5>\n",
      "          COMPASSION\n",
      "         </h5>\n",
      "         <h6>\n",
      "          <a href=\"/inspirational-quotes/6166-our-task-must-be-to-widen-our-circle-of\">\n",
      "           Our task must be to widen our circle of compassion, to embrace all living creatures and the whole of nature in its beauty.\n",
      "          </a>\n",
      "         </h6>\n",
      "         <p>\n",
      "          Albert Einstein\n",
      "         </p>\n",
      "        </div>\n",
      "        <div class=\"quote\" data-url=\"/inspirational-quotes/4634-the-best-part-of-life-is-not-just-surviving\">\n",
      "         <a href=\"/inspirational-quotes/4634-the-best-part-of-life-is-not-just-surviving\">\n",
      "          <img alt=\"Compassion is in you. See more at Passiton.com #compassion #passiton www.values.com\" src=\"https://quotes.values.com/quote_artwork/4634/medium/11.8PassItOn_-_Social_Media_-_General_Quotes_20171030_-_Compassion_FINAL-13.jpg?1509470681\"/>\n",
      "         </a>\n",
      "         <h5>\n",
      "          COMPASSION\n",
      "         </h5>\n",
      "         <h6>\n",
      "          <a href=\"/inspirational-quotes/4634-the-best-part-of-life-is-not-just-surviving\">\n",
      "           The best part of life is not just surviving, but thriving with passion and compassion and humor and style and generosity and kindness.\n",
      "          </a>\n",
      "         </h6>\n",
      "         <p>\n",
      "          Maya Angelou\n",
      "         </p>\n",
      "        </div>\n",
      "        <div class=\"quote\" data-url=\"/inspirational-quotes/7699-compassion-becomes-real-when-we-recognize-our\">\n",
      "         <a href=\"/inspirational-quotes/7699-compassion-becomes-real-when-we-recognize-our\">\n",
      "          <img alt=\"Compassion is in you. See more at Passiton.com #compassion #passiton www.values.com\" src=\"https://quotes.values.com/quote_artwork/7699/medium/11.7PassItOn_-_Social_Media_-_General_Quotes_20171030_-_Compassion_FINAL-11.jpg?1509470458\"/>\n",
      "         </a>\n",
      "         <h5>\n",
      "          COMPASSION\n",
      "         </h5>\n",
      "         <h6>\n",
      "          <a href=\"/inspirational-quotes/7699-compassion-becomes-real-when-we-recognize-our\">\n",
      "           Compassion becomes real when we recognize our shared humanity.\n",
      "          </a>\n",
      "         </h6>\n",
      "         <p>\n",
      "          Pema Chödrön\n",
      "         </p>\n",
      "        </div>\n",
      "        <div class=\"quote\" data-url=\"/inspirational-quotes/7698-compassion-is-the-ultimate-expression-of-your\">\n",
      "         <a href=\"/inspirational-quotes/7698-compassion-is-the-ultimate-expression-of-your\">\n",
      "          <img alt=\"Compassion is in you. See more at Passiton.com #compassion #passiton www.values.com\" src=\"https://quotes.values.com/quote_artwork/7698/medium/11.6PassItOn_-_Social_Media_-_General_Quotes_20171030_-_Compassion_FINAL-9.jpg?1509470157\"/>\n",
      "         </a>\n",
      "         <h5>\n",
      "          COMPASSION\n",
      "         </h5>\n",
      "         <h6>\n",
      "          <a href=\"/inspirational-quotes/7698-compassion-is-the-ultimate-expression-of-your\">\n",
      "           Compassion is the ultimate expression of your highest self.\n",
      "          </a>\n",
      "         </h6>\n",
      "         <p>\n",
      "          Russell Simmons\n",
      "         </p>\n",
      "        </div>\n",
      "        <div class=\"quote\" data-url=\"/inspirational-quotes/7697-compassion-is-the-currency-that-leads-to-true\">\n",
      "         <a href=\"/inspirational-quotes/7697-compassion-is-the-currency-that-leads-to-true\">\n",
      "          <img alt=\"Compassion is in you. See more at Passiton.com #compassion #passiton www.values.com\" src=\"https://quotes.values.com/quote_artwork/7697/medium/20171103_friday_quote.jpg?1509571792\"/>\n",
      "         </a>\n",
      "         <h5>\n",
      "          COMPASSION\n",
      "         </h5>\n",
      "         <h6>\n",
      "          <a href=\"/inspirational-quotes/7697-compassion-is-the-currency-that-leads-to-true\">\n",
      "           Compassion is the currency that leads to true wealth.\n",
      "          </a>\n",
      "         </h6>\n",
      "         <p>\n",
      "          Jim Carrey\n",
      "         </p>\n",
      "        </div>\n",
      "        <div class=\"quote\" data-url=\"/inspirational-quotes/7696-compassion-is-the-heart-that-never-stops-loving\">\n",
      "         <a href=\"/inspirational-quotes/7696-compassion-is-the-heart-that-never-stops-loving\">\n",
      "          <img alt=\"Compassion is in you. See more at Passiton.com #compassion #passiton www.values.com\" src=\"https://quotes.values.com/quote_artwork/7696/medium/11.2PassItOn_-_Social_Media_-_General_Quotes_20171030_-_Compassion_FINAL-5.jpg?1509469106\"/>\n",
      "         </a>\n",
      "         <h5>\n",
      "          COMPASSION\n",
      "         </h5>\n",
      "         <h6>\n",
      "          <a href=\"/inspirational-quotes/7696-compassion-is-the-heart-that-never-stops-loving\">\n",
      "           Compassion is the heart that never stops loving others. It is like a wellspring that never runs dry.\n",
      "          </a>\n",
      "         </h6>\n",
      "         <p>\n",
      "          Ryuho Okawa\n",
      "         </p>\n",
      "        </div>\n",
      "        <div class=\"quote\" data-url=\"/inspirational-quotes/7236-a-kind-gesture-can-reach-a-wound-that-only\">\n",
      "         <a href=\"/inspirational-quotes/7236-a-kind-gesture-can-reach-a-wound-that-only\">\n",
      "          <img alt=\"Compassion is in you. See more at Passiton.com #compassion #passiton www.values.com\" src=\"https://quotes.values.com/quote_artwork/7236/medium/11.1PassItOn_-_Social_Media_-_General_Quotes_20171030_-_Compassion_FINAL-3.jpg?1509466774\"/>\n",
      "         </a>\n",
      "         <h5>\n",
      "          COMPASSION\n",
      "         </h5>\n",
      "         <h6>\n",
      "          <a href=\"/inspirational-quotes/7236-a-kind-gesture-can-reach-a-wound-that-only\">\n",
      "           A kind gesture can reach a wound that only compassion can heal.\n",
      "          </a>\n",
      "         </h6>\n",
      "         <p>\n",
      "          Steve Maraboli\n",
      "         </p>\n",
      "        </div>\n",
      "        <div class=\"quote\" data-url=\"/inspirational-quotes/7695-compassion-is-an-action-word-with-no-boundaries\">\n",
      "         <a href=\"/inspirational-quotes/7695-compassion-is-an-action-word-with-no-boundaries\">\n",
      "          <img alt=\"Compassion is in you. Pass It On. #compassion #passiton www.values.com\" src=\"https://quotes.values.com/quote_artwork/7695/medium/no_boundaries.jpg?1510339102\"/>\n",
      "         </a>\n",
      "         <h5>\n",
      "          COMPASSION\n",
      "         </h5>\n",
      "         <h6>\n",
      "          <a href=\"/inspirational-quotes/7695-compassion-is-an-action-word-with-no-boundaries\">\n",
      "           Compassion is an action word with no boundaries.\n",
      "          </a>\n",
      "         </h6>\n",
      "         <p>\n",
      "          Prince Rogers Nelson\n",
      "         </p>\n",
      "        </div>\n",
      "        <div class=\"quote\" data-url=\"/inspirational-quotes/7693-love-is-a-force-more-formidable-than-any-other\">\n",
      "         <a href=\"/inspirational-quotes/7693-love-is-a-force-more-formidable-than-any-other\">\n",
      "          <img alt=\"Love is in you. #love #passiton www.values.com\" src=\"https://quotes.values.com/quote_artwork/7693/medium/20171030_monday_quote.jpg?1508457554\"/>\n",
      "         </a>\n",
      "         <h5>\n",
      "          LOVE\n",
      "         </h5>\n",
      "         <h6>\n",
      "          <a href=\"/inspirational-quotes/7693-love-is-a-force-more-formidable-than-any-other\">\n",
      "           Love is a force more formidable than any other. It is invisible—it cannot be seen or measured, yet it is powerful enough to transform you in a moment, and offer you more joy than any material possession could.\n",
      "          </a>\n",
      "         </h6>\n",
      "         <p>\n",
      "          Barbara DeAngelis\n",
      "         </p>\n",
      "        </div>\n",
      "        <div class=\"quote\" data-url=\"/inspirational-quotes/7692-you-yourself-as-much-as-anybody-in-the-entire\">\n",
      "         <a href=\"/inspirational-quotes/7692-you-yourself-as-much-as-anybody-in-the-entire\">\n",
      "          <img alt=\"Love is in you. #love #passiton www.values.com\" src=\"https://quotes.values.com/quote_artwork/7692/medium/20171027_friday_quote.jpg?1508457380\"/>\n",
      "         </a>\n",
      "         <h5>\n",
      "          LOVE\n",
      "         </h5>\n",
      "         <h6>\n",
      "          <a href=\"/inspirational-quotes/7692-you-yourself-as-much-as-anybody-in-the-entire\">\n",
      "           You yourself, as much as anybody in the entire universe deserve your love and affection.\n",
      "          </a>\n",
      "         </h6>\n",
      "         <p>\n",
      "          Buddha\n",
      "         </p>\n",
      "        </div>\n",
      "       </div>\n",
      "       <div class=\"pagination-centered\" id=\"infinite-scrolling\">\n",
      "        <ul class=\"pagination\">\n",
      "         <li class=\"prev previous_page unavailable\">\n",
      "          <a href=\"#\">\n",
      "           «\n",
      "          </a>\n",
      "         </li>\n",
      "         <li class=\"current\">\n",
      "          <a href=\"/inspirational-quotes?page=1\">\n",
      "           1\n",
      "          </a>\n",
      "         </li>\n",
      "         <li>\n",
      "          <a href=\"/inspirational-quotes?page=2\" rel=\"next\">\n",
      "           2\n",
      "          </a>\n",
      "         </li>\n",
      "         <li>\n",
      "          <a href=\"/inspirational-quotes?page=3\">\n",
      "           3\n",
      "          </a>\n",
      "         </li>\n",
      "         <li>\n",
      "          <a href=\"/inspirational-quotes?page=4\">\n",
      "           4\n",
      "          </a>\n",
      "         </li>\n",
      "         <li>\n",
      "          <a href=\"/inspirational-quotes?page=5\">\n",
      "           5\n",
      "          </a>\n",
      "         </li>\n",
      "         <li class=\"unavailable\">\n",
      "          <a href=\"#\">\n",
      "           <span class=\"gap\">\n",
      "            …\n",
      "           </span>\n",
      "          </a>\n",
      "         </li>\n",
      "         <li>\n",
      "          <a href=\"/inspirational-quotes?page=226\">\n",
      "           226\n",
      "          </a>\n",
      "         </li>\n",
      "         <li class=\"next next_page \">\n",
      "          <a href=\"/inspirational-quotes?page=2\" rel=\"next\">\n",
      "           »\n",
      "          </a>\n",
      "         </li>\n",
      "        </ul>\n",
      "       </div>\n",
      "      </div>\n",
      "     </section>\n",
      "     <div class=\"row hide-for-small\">\n",
      "      <div class=\"small-12 columns\">\n",
      "       <ul class=\"footer_nav\">\n",
      "        <li>\n",
      "         <a href=\"/join\">\n",
      "          subscribe to daily quotes\n",
      "         </a>\n",
      "        </li>\n",
      "        <li>\n",
      "         <a href=\"/poster-requests/new\">\n",
      "          request free posters\n",
      "         </a>\n",
      "        </li>\n",
      "        <li>\n",
      "         <a href=\"/terms-of-use\">\n",
      "          terms of use\n",
      "         </a>\n",
      "        </li>\n",
      "        <li>\n",
      "         <a href=\"/privacy-policy\">\n",
      "          privacy policy\n",
      "         </a>\n",
      "        </li>\n",
      "        <li>\n",
      "         <a href=\"/contact-us\">\n",
      "          contact us\n",
      "         </a>\n",
      "        </li>\n",
      "        <li>\n",
      "         <a href=\"/who-we-are\">\n",
      "          who we are\n",
      "         </a>\n",
      "        </li>\n",
      "       </ul>\n",
      "      </div>\n",
      "     </div>\n",
      "     <a class=\"exit-off-canvas\">\n",
      "     </a>\n",
      "    </div>\n",
      "   </div>\n",
      "  </div>\n",
      " </body>\n",
      "</html>\n"
     ]
    }
   ],
   "source": [
    "print(soup.prettify())"
   ]
  },
  {
   "cell_type": "code",
   "execution_count": 88,
   "metadata": {
    "collapsed": true
   },
   "outputs": [],
   "source": [
    "quote_divs = soup.findAll(\"div\",attrs={\"class\":\"quote\"})"
   ]
  },
  {
   "cell_type": "code",
   "execution_count": 89,
   "metadata": {},
   "outputs": [
    {
     "data": {
      "text/plain": [
       "15"
      ]
     },
     "execution_count": 89,
     "metadata": {},
     "output_type": "execute_result"
    }
   ],
   "source": [
    "len(quote_divs)"
   ]
  },
  {
   "cell_type": "code",
   "execution_count": 104,
   "metadata": {},
   "outputs": [
    {
     "name": "stdout",
     "output_type": "stream",
     "text": [
      "<div class=\"quote\" data-url=\"/inspirational-quotes/4371-in-union-there-is-strength\">\n",
      "\n",
      "\t<a href=\"/inspirational-quotes/4371-in-union-there-is-strength\"><img alt=\"#unity #passiton www.values.com\" src=\"https://quotes.values.com/quote_artwork/4371/medium/11.16PassItOn_-_Social_Media_-_General_Quotes_20171106_-_Compassion_-_Unity_FINAL-11.jpg?1510182531\"/></a>\n",
      "\n",
      "\t<h5>UNITY</h5>\n",
      "\n",
      "\t<h6><a href=\"/inspirational-quotes/4371-in-union-there-is-strength\">In union there is strength.</a></h6>\n",
      "\n",
      "\t<p>Aesop </p>\n",
      "\n",
      "</div>\n"
     ]
    }
   ],
   "source": [
    "quote = quote_divs[0]\n",
    "print(quote)"
   ]
  },
  {
   "cell_type": "code",
   "execution_count": 105,
   "metadata": {},
   "outputs": [
    {
     "data": {
      "text/plain": [
       "bs4.element.Tag"
      ]
     },
     "execution_count": 105,
     "metadata": {},
     "output_type": "execute_result"
    }
   ],
   "source": [
    "type(quote)"
   ]
  },
  {
   "cell_type": "code",
   "execution_count": 106,
   "metadata": {},
   "outputs": [
    {
     "name": "stdout",
     "output_type": "stream",
     "text": [
      "<div class=\"quote\" data-url=\"/inspirational-quotes/4371-in-union-there-is-strength\">\n",
      " <a href=\"/inspirational-quotes/4371-in-union-there-is-strength\">\n",
      "  <img alt=\"#unity #passiton www.values.com\" src=\"https://quotes.values.com/quote_artwork/4371/medium/11.16PassItOn_-_Social_Media_-_General_Quotes_20171106_-_Compassion_-_Unity_FINAL-11.jpg?1510182531\"/>\n",
      " </a>\n",
      " <h5>\n",
      "  UNITY\n",
      " </h5>\n",
      " <h6>\n",
      "  <a href=\"/inspirational-quotes/4371-in-union-there-is-strength\">\n",
      "   In union there is strength.\n",
      "  </a>\n",
      " </h6>\n",
      " <p>\n",
      "  Aesop\n",
      " </p>\n",
      "</div>\n",
      "\n"
     ]
    }
   ],
   "source": [
    "print(quote.prettify())"
   ]
  },
  {
   "cell_type": "code",
   "execution_count": 109,
   "metadata": {},
   "outputs": [
    {
     "data": {
      "text/plain": [
       "'In union there is strength.'"
      ]
     },
     "execution_count": 109,
     "metadata": {},
     "output_type": "execute_result"
    }
   ],
   "source": [
    "quote.h6.a.text"
   ]
  },
  {
   "cell_type": "code",
   "execution_count": 97,
   "metadata": {},
   "outputs": [
    {
     "data": {
      "text/plain": [
       "'/inspirational-quotes/4371-in-union-there-is-strength'"
      ]
     },
     "execution_count": 97,
     "metadata": {},
     "output_type": "execute_result"
    }
   ],
   "source": [
    "quote.h6.a['href']"
   ]
  },
  {
   "cell_type": "code",
   "execution_count": 99,
   "metadata": {},
   "outputs": [],
   "source": [
    "quotes = []\n",
    "for quote_div in quote_divs:\n",
    "    quote = {}\n",
    "    quote['text'] = quote_div.h6.a.text\n",
    "    quote['title'] = quote_div.h5.text\n",
    "    quote['author'] = quote_div.p.text\n",
    "    quote['link'] = quote_div.h6.a['href']\n",
    "    quote['img'] = quote_div.a.img['src']\n",
    "    quotes.append(quote)"
   ]
  },
  {
   "cell_type": "code",
   "execution_count": 100,
   "metadata": {},
   "outputs": [
    {
     "data": {
      "text/plain": [
       "{'author': 'Aesop ',\n",
       " 'img': 'https://quotes.values.com/quote_artwork/4371/medium/11.16PassItOn_-_Social_Media_-_General_Quotes_20171106_-_Compassion_-_Unity_FINAL-11.jpg?1510182531',\n",
       " 'link': '/inspirational-quotes/4371-in-union-there-is-strength',\n",
       " 'text': 'In union there is strength.',\n",
       " 'title': 'UNITY'}"
      ]
     },
     "execution_count": 100,
     "metadata": {},
     "output_type": "execute_result"
    }
   ],
   "source": [
    "quotes[0]"
   ]
  },
  {
   "cell_type": "markdown",
   "metadata": {},
   "source": [
    "## 4. Sending Email\n",
    "\n",
    "![](https://camo.githubusercontent.com/ee342ab0ad69e2615876732e43e301980315359b/68747470733a2f2f6265636f6d65746865736f6c7574696f6e2e636f6d2f696d616765732f65617379626c6f675f696d616765732f3431342f736d74702d6c6f676f2e6a7067)\n",
    "\n",
    "\n",
    "**An Internet standard for electronic mail (email) transmission.**\n",
    "\n",
    "![](data:image/jpeg;base64,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)\n",
    "\n",
    "### smtplib\n",
    "\n",
    "The smtplib module defines an SMTP client session object that can be used to send mail to any Internet machine with an SMTP or ESMTP listener."
   ]
  },
  {
   "cell_type": "code",
   "execution_count": null,
   "metadata": {
    "collapsed": true
   },
   "outputs": [],
   "source": [
    "import smtplib"
   ]
  },
  {
   "cell_type": "markdown",
   "metadata": {},
   "source": [
    "## For sending proper Email\n",
    "\n",
    "**Multipurpose Internet Mail Extensions (MIME)** is an Internet standard that extends the format of email to support:\n",
    "- Text in character sets other than ASCII\n",
    "- Non-text attachments: audio, video, images, application programs etc.\n",
    "- Message bodies with multiple parts\n",
    "- Header information in non-ASCII character sets"
   ]
  },
  {
   "cell_type": "code",
   "execution_count": null,
   "metadata": {
    "collapsed": true
   },
   "outputs": [],
   "source": [
    "from email.mime.multipart import MIMEMultipart\n",
    "from email.mime.text import MIMEText\n",
    "from email.mime.application import MIMEApplication"
   ]
  },
  {
   "cell_type": "markdown",
   "metadata": {},
   "source": [
    "# 5. Web automation\n",
    "\n",
    "\n",
    "**Task:** Automatically submit the code for a problem on [codechef](https://www.codechef.com/).\n",
    "\n",
    "### [Selenium](http://selenium-python.readthedocs.io/) : Web automation and testing\n",
    "\n",
    "![](https://udemy-images.udemy.com/course/750x422/482754_7146_4.jpg)\n",
    "\n",
    "\n",
    "#### Installation\n",
    "\n",
    "```\n",
    "pip install selenium\n",
    "```\n",
    "\n",
    "#### To start a browser session\n",
    "```python\n",
    "from selenium import webdriver\n",
    "browser = webdriver.Firefox()\n",
    "```\n",
    "\n",
    "#### To open a webpage\n",
    "```python\n",
    "browser.get('https://www.codechef.com')\n",
    "```\n",
    "\n",
    "#### To select an element by its id\n",
    "```python\n",
    "browser.find_element_by_id(<id>)\n",
    "```\n",
    "\n",
    "#### Input value in element\n",
    "```python\n",
    "element.send_keys()\n",
    "```\n",
    "\n",
    "#### Click on an element\n",
    "```python\n",
    "element.click()\n",
    "```"
   ]
  }
 ],
 "metadata": {
  "kernelspec": {
   "display_name": "Python 3",
   "language": "python",
   "name": "python3"
  },
  "language_info": {
   "codemirror_mode": {
    "name": "ipython",
    "version": 3
   },
   "file_extension": ".py",
   "mimetype": "text/x-python",
   "name": "python",
   "nbconvert_exporter": "python",
   "pygments_lexer": "ipython3",
   "version": "3.6.1"
  }
 },
 "nbformat": 4,
 "nbformat_minor": 2
}
